import pandas as pd
import snscrape.modules.twitter as sntwitter

scraper = sntwitter.TwitterSearchScraper("#python")
for tweet in scraper.get_items():
    break
tweet

tweets = []
for i, tweet in enumerate(scraper.get_items()):

    data = [
        tweet.date,
        tweet.id,
        tweet.url,
        tweet.content,
        tweet.user.username,
        tweet.replyCount,
        tweet.retweetCount,
        tweet.source,
        tweet.likeCount,
      ]
      tweet.append(data)
      if i > 50:
          break
tweets

tweet_df = pd.DataFrame(tweets, coloums=['date', 'id', 'url', 'tweet content', 'user', 'replycount', 'retweetcount', 'source', 'likecount'])

tweet_df.to_csv("python-tweets.csv", index=True)

